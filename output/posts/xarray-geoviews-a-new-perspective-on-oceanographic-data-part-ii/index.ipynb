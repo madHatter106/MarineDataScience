{
 "cells": [
  {
   "cell_type": "markdown",
   "metadata": {},
   "source": [
    "In a [previous post](https://madhatter106.github.io/DataScienceCorner/posts/xarray-geoviews-a-new-perspective-on-oceanographic-data-part-i/), I introduced xarray with some simple manipulation and data plotting. In this super-short post, I'm going to do some more manipulation, using multiple input files to create a new dimension, reorganize the data and store them in multiple output files. All but with a few lines of code.\n",
    "<!-- TEASER_END -->\n",
    "\n",
    "#### GOAL:\n",
    "The ultimate goal here is to create new datasets, one for band, that aggregate results across experiments so as to facilitate inter-experiment comparisons.\n",
    "\n",
    "#### HOW: \n",
    "I will load netCDF files from a number of Monte-Carlo uncertainty experiments, among which the source of the uncertainty differs; Lt (sensor noise), wind, pressure, relative humidity, all the above.\n",
    "At the end of this post, I will have 6 files, one per visible SeaWiFS visible band\n",
    "containing one 3D array where dimensions are latitude, longitude, experiment.\n",
    "\n",
    "#### WHY: \n",
    "I'm doing this to create an interactive visualization (*cf.* [next post]()) using GeoViews, where the goal is to compare, band-wise, cross-experiment results.\n",
    "\n",
    "As usual, start with some imports..."
   ]
  },
  {
   "cell_type": "code",
   "execution_count": 1,
   "metadata": {
    "collapsed": true
   },
   "outputs": [],
   "source": [
    "import xarray as xr\n",
    "import os\n",
    "import glob"
   ]
  },
  {
   "cell_type": "markdown",
   "metadata": {},
   "source": [
    "Now I set up some file path logic to avoid rewriting full file paths. I then accrue file paths into a list. I, fpaths. The new files I will next create will be stored in the 'Synthesis' directory for later retrieval."
   ]
  },
  {
   "cell_type": "code",
   "execution_count": 2,
   "metadata": {
    "collapsed": false
   },
   "outputs": [],
   "source": [
    "dataDir = '/accounts/ekarakoy/disk02/UNCERTAINTIES/Monte-Carlo/DATA/AncillaryMC/'\n",
    "expDirs = ['Lt', 'AllAnc_Lt', 'Pressure', 'RH', 'WindSpeed', 'O3']\n",
    "outDir = 'Synthesis'\n",
    "fpattern = 'S20031932003196.L3m_4D_SU*.nc'\n",
    "fpaths = [glob.glob(os.path.join(dataDir, expDir, fpattern))[0] for expDir in expDirs]"
   ]
  },
  {
   "cell_type": "markdown",
   "metadata": {},
   "source": [
    "I'm only interested in the visible bands because of the [black pixel assumption used in the atmospheric correction applied during the processing phase](http://www.ioccg.org/training/SLS-2012/Mobley_Lect3.pdf), which renders Rrs in the near-infrared bands useless."
   ]
  },
  {
   "cell_type": "code",
   "execution_count": 3,
   "metadata": {
    "collapsed": true
   },
   "outputs": [],
   "source": [
    "bands = [412, 443, 490, 510, 555, 670]"
   ]
  },
  {
   "cell_type": "markdown",
   "metadata": {},
   "source": [
    "***xarray*** has a nifty feature that allows opening multiple datasets, and automatically concatenating matching (by name and dimension) arrays, with the option of naming the thus newly created dimension. In our case, this is *'experiment'*. The next line of code, below, opens what will end up being a temporary xarray Dataset - note that you will need [dask](http://dask.pydata.org/en/latest/) installed for this. I'll then label the *experiment* dimension with the appropriate experiment names. Importantly, the concatenation direction reflects the order in which the file paths are specified, and it's also the order the experiment names are in in the *'expDirs'* list defined above. I also make sure that the Rrs uncertainty data is labeled the same, 'rrs_unc'."
   ]
  },
  {
   "cell_type": "code",
   "execution_count": 4,
   "metadata": {
    "collapsed": false
   },
   "outputs": [],
   "source": [
    "with xr.open_mfdataset(fpaths, concat_dim='experiment') as allData:\n",
    "    allData.coords['experiment'] = expDirs\n",
    "    for band in bands:\n",
    "        foutpath = os.path.join(dataDir, outDir, '%s%d%s' %(fpattern.split('SU')[0],\n",
    "                                                            band, '.nc'))\n",
    "        if not os.path.exists(os.path.dirname(foutpath)):\n",
    "            os.makedirs(os.path.dirname(foutpath))\n",
    "        data = allData.data_vars['Rrs_unc_%d' % band]\n",
    "        data.name='rrs_unc'\n",
    "        dsData = data.to_dataset()\n",
    "        dsData.to_netcdf(path=foutpath, engine='netcdf4')"
   ]
  },
  {
   "cell_type": "markdown",
   "metadata": {},
   "source": [
    "Verify that all the files are where they should be - in the Synthesis directory"
   ]
  },
  {
   "cell_type": "code",
   "execution_count": 5,
   "metadata": {
    "collapsed": false
   },
   "outputs": [
    {
     "data": {
      "text/plain": [
       "['S20031932003196.L3m_4D_490.nc',\n",
       " 'S20031932003196.L3m_4D_510.nc',\n",
       " 'S20031932003196.L3m_4D_412.nc',\n",
       " 'S20031932003196.L3m_4D_555.nc',\n",
       " 'S20031932003196.L3m_4D_670.nc',\n",
       " 'S20031932003196.L3m_4D_443.nc']"
      ]
     },
     "execution_count": 5,
     "metadata": {},
     "output_type": "execute_result"
    }
   ],
   "source": [
    "os.listdir(os.path.dirname(foutpath))"
   ]
  },
  {
   "cell_type": "markdown",
   "metadata": {},
   "source": [
    "Success!! I now have six files, one per Rrs band, and each file contains the results of five experiments.\n",
    "That's it. This will make it easy for me, in the [next post](), to use GeoViews, HoloViews, with a Matplotlib backend to create some nice, but more importantly, intuitive and hopefully useful visualizations with very little code. Happy hacking!!"
   ]
  }
 ],
 "metadata": {
  "anaconda-cloud": {},
  "kernelspec": {
   "display_name": "Python [default]",
   "language": "python",
   "name": "python3"
  },
  "language_info": {
   "codemirror_mode": {
    "name": "ipython",
    "version": 3
   },
   "file_extension": ".py",
   "mimetype": "text/x-python",
   "name": "python",
   "nbconvert_exporter": "python",
   "pygments_lexer": "ipython3",
   "version": "3.5.2"
  },
  "nikola": {
   "category": "",
   "date": "2017-02-20 14:30:43 UTC-05:00",
   "description": "",
   "link": "",
   "slug": "xarray-geoviews-a-new-perspective-on-oceanographic-data-part-ii",
   "tags": "jupyter, xarray, ocean color",
   "title": "XARRAY & GEOVIEWS A new perspective on oceanographic data - part II",
   "type": "text"
  }
 },
 "nbformat": 4,
 "nbformat_minor": 2
}
